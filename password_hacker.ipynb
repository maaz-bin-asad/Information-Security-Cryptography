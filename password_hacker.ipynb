{
  "nbformat": 4,
  "nbformat_minor": 0,
  "metadata": {
    "colab": {
      "name": "PH1.ipynb",
      "provenance": [],
      "authorship_tag": "ABX9TyNoGARJ7jqqblRwDgkq/zP4",
      "include_colab_link": true
    },
    "kernelspec": {
      "display_name": "Python 3",
      "name": "python3"
    }
  },
  "cells": [
    {
      "cell_type": "markdown",
      "metadata": {
        "id": "view-in-github",
        "colab_type": "text"
      },
      "source": [
        "<a href=\"https://colab.research.google.com/github/maaz-bin-asad/Information-Security-Cryptography/blob/main/PH1.ipynb\" target=\"_parent\"><img src=\"https://colab.research.google.com/assets/colab-badge.svg\" alt=\"Open In Colab\"/></a>"
      ]
    },
    {
      "cell_type": "markdown",
      "metadata": {
        "id": "T-vfwh7-pWp4"
      },
      "source": [
        "# PASSWORD HACKER - Establishing a Connection in Python\n",
        "\n",
        "# Objective\n",
        "\n",
        "This program will receive command line arguments in this order:\n",
        "\n",
        "1. IP address\n",
        "2. port\n",
        "3. message for sending\n",
        "\n",
        "The algorithm is the following:\n",
        "\n",
        "1. Create a new socket.\n",
        "2. Connect to a host and a port using the socket.\n",
        "3. Send a message from the third command line argument to the host using the socket.\n",
        "4. Receive the server’s response.\n",
        "5. Print the server’s response.\n",
        "6. Close the socket.\n",
        "\n",
        "# Understanding Code\n",
        "\n",
        "- **bytearray()** : Creates a bytearray object to later convert the message into bytearray\n",
        "\n",
        "- **socket.socket( socket.AF_INET, socket.SOCK_STREAM )** : Creates a socket object.\n",
        "  - *AF_INET* - It is the internet address family of IPv4\n",
        "  - *SOCK_STREAM* - socket type for TCP protocol\n",
        "\n",
        "- **s.connect((HOST_ID, PORT))** : Establish Connection to the server\n",
        "  - *HOST_ID* - IP Address of HOST\n",
        "  - *PORT*  - TCP Port to connect to the HOST_ID\n",
        "\n",
        "- **s.sendall(bytearray)** : Sends a message in form of bytearray to the server.\n",
        "\n",
        "- **s.recv(1024)** : It receives max. 1024 bytes from server\n",
        "\n",
        "- **s.close()** : Closes the connection!"
      ]
    },
    {
      "cell_type": "code",
      "metadata": {
        "colab": {
          "base_uri": "https://localhost:8080/"
        },
        "id": "BJGqrG33pdv5",
        "outputId": "6e645f80-6afc-4937-b89d-7cd1c7cbbd85"
      },
      "source": [
        "import socket\n",
        "\n",
        "HOST_ID = input()  # The server's hostname or IP address\n",
        "PORT = int(input())      # The port used by the server\n",
        "\n",
        "# Message to send to server\n",
        "# Convert string type message to bytearray\n",
        "MESSAGE = input('Enter the message to ping:')    \n",
        "b = bytearray()\n",
        "b.extend(map(ord, MESSAGE))\n",
        "\n",
        "\n",
        "with socket.socket(socket.AF_INET, socket.SOCK_STREAM) as s:\n",
        "\n",
        "  try:\n",
        "    s.connect((HOST_ID, PORT))\n",
        "    print('SUCCESSFULLY CONNECTED!')\n",
        "\n",
        "  except Exception as e:\n",
        "    print(f'CONNECTION ERROR: {e}')\n",
        "\n",
        "  try:\n",
        "    s.sendall(b)\n",
        "    print('MESSAGE SENT!')\n",
        "\n",
        "  except Exception as e:\n",
        "    print(f'MESSAGE NOT SENT: {e}')\n",
        "\n",
        "  try:\n",
        "    data = s.recv(1024)\n",
        "    print('RESPONSE RECEIVED: ', repr(data))\n",
        "  \n",
        "  except Exception as e:\n",
        "    print(f'RESPONSE ERROR: {e}')\n",
        "\n",
        "s.close()\n"
      ],
      "execution_count": null,
      "outputs": [
        {
          "output_type": "stream",
          "text": [
            "localhost\n",
            "9090\n",
            "Enter the message to ping:a\n",
            "CONNECTION ERROR: [Errno 111] Connection refused\n",
            "MESSAGE NOT SENT: [Errno 32] Broken pipe\n",
            "RESPONSE ERROR: [Errno 107] Transport endpoint is not connected\n"
          ],
          "name": "stdout"
        }
      ]
    },
    {
      "cell_type": "code",
      "metadata": {
        "id": "ZNwCZzNZr97m"
      },
      "source": [
        ""
      ],
      "execution_count": null,
      "outputs": []
    }
  ]
}
